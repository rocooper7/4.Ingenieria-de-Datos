{
 "metadata": {
  "language_info": {
   "codemirror_mode": {
    "name": "ipython",
    "version": 3
   },
   "file_extension": ".py",
   "mimetype": "text/x-python",
   "name": "python",
   "nbconvert_exporter": "python",
   "pygments_lexer": "ipython3",
   "version": 3
  },
  "orig_nbformat": 2,
  "kernelspec": {
   "name": "python_defaultSpec_1596733134598",
   "display_name": "Python 3.8.3 64-bit ('Anaconda': conda)"
  }
 },
 "nbformat": 4,
 "nbformat_minor": 2,
 "cells": [
  {
   "cell_type": "code",
   "execution_count": null,
   "metadata": {},
   "outputs": [],
   "source": [
    "import os "
   ]
  },
  {
   "cell_type": "code",
   "execution_count": 11,
   "metadata": {},
   "outputs": [
    {
     "output_type": "execute_result",
     "data": {
      "text/plain": "('.\\\\web_scrapper\\\\extract',\n ['__pycache__'],\n ['common.py', 'config.yaml', 'main.py', 'news_page_objects.py'])"
     },
     "metadata": {},
     "execution_count": 11
    }
   ],
   "source": [
    "list(os.walk('.\\\\web_scrapper\\\\extract'))[0]"
   ]
  },
  {
   "cell_type": "code",
   "execution_count": 17,
   "metadata": {},
   "outputs": [
    {
     "output_type": "execute_result",
     "data": {
      "text/plain": "<module 'ntpath' from 'C:\\\\Anaconda\\\\lib\\\\ntpath.py'>"
     },
     "metadata": {},
     "execution_count": 17
    }
   ],
   "source": [
    "os.path\n",
    "# os.mkdir(today)"
   ]
  }
 ]
}