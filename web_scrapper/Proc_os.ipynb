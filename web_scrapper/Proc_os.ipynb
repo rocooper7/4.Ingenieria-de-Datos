{
 "metadata": {
  "language_info": {
   "codemirror_mode": {
    "name": "ipython",
    "version": 3
   },
   "file_extension": ".py",
   "mimetype": "text/x-python",
   "name": "python",
   "nbconvert_exporter": "python",
   "pygments_lexer": "ipython3",
   "version": "3.8.3-final"
  },
  "orig_nbformat": 2,
  "kernelspec": {
   "name": "python_defaultSpec_1600186035032",
   "display_name": "Python 3.8.3 64-bit ('Anaconda': conda)"
  }
 },
 "nbformat": 4,
 "nbformat_minor": 2,
 "cells": [
  {
   "cell_type": "code",
   "execution_count": 1,
   "metadata": {},
   "outputs": [],
   "source": [
    "import os "
   ]
  },
  {
   "cell_type": "code",
   "execution_count": 20,
   "metadata": {},
   "outputs": [],
   "source": [
    "path = '.\\\\extract'"
   ]
  },
  {
   "cell_type": "code",
   "execution_count": 30,
   "metadata": {},
   "outputs": [
    {
     "output_type": "execute_result",
     "data": {
      "text/plain": "('.\\\\extract',\n ['__pycache__'],\n ['common.py', 'config.yaml', 'main.py', 'news_page_objects.py'])"
     },
     "metadata": {},
     "execution_count": 30
    }
   ],
   "source": [
    "list(os.walk(path))[0]"
   ]
  },
  {
   "cell_type": "code",
   "execution_count": 28,
   "metadata": {
    "tags": []
   },
   "outputs": [
    {
     "output_type": "stream",
     "name": "stdout",
     "text": "eluniversal_2020_09_15_articles.csv\n"
    }
   ],
   "source": [
    "for rutas in list(os.walk(path))[0]:\n",
    "    # print(rutas)\n",
    "    if len(rutas) > 1:\n",
    "        # print(rutas)\n",
    "        for file in rutas:\n",
    "            if 'eluniversal' in file:\n",
    "                print(file)"
   ]
  },
  {
   "cell_type": "code",
   "execution_count": 17,
   "metadata": {},
   "outputs": [
    {
     "output_type": "execute_result",
     "data": {
      "text/plain": "<module 'ntpath' from 'C:\\\\Anaconda\\\\lib\\\\ntpath.py'>"
     },
     "metadata": {},
     "execution_count": 17
    }
   ],
   "source": [
    "os.path\n",
    "# os.mkdir(today)"
   ]
  }
 ]
}